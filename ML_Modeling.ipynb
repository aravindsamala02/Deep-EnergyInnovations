{
 "cells": [
  {
   "cell_type": "code",
   "execution_count": 21,
   "metadata": {},
   "outputs": [],
   "source": [
    "import numpy as np\n",
    "import pandas as pd\n",
    "import pickle\n",
    "\n",
    "import matplotlib.pyplot as plt\n",
    "import seaborn as sb\n",
    "\n",
    "\n",
    "from sklearn.preprocessing import MinMaxScaler\n",
    "from sklearn.linear_model import LinearRegression\n",
    "from sklearn.model_selection import KFold\n",
    "from sklearn.model_selection import cross_val_score\n",
    "\n",
    "\n",
    "\n",
    "import keras\n",
    "from keras.models import Sequential\n",
    "from keras.layers import *\n",
    "from keras.preprocessing import image\n",
    "from keras.wrappers.scikit_learn import KerasClassifier"
   ]
  },
  {
   "cell_type": "markdown",
   "metadata": {},
   "source": [
    "## Loading the dataframe\n",
    "Loading the dataframe from the pickle file which was exported from Pre processing stage"
   ]
  },
  {
   "cell_type": "code",
   "execution_count": 74,
   "metadata": {},
   "outputs": [
    {
     "data": {
      "text/html": [
       "<div>\n",
       "<style scoped>\n",
       "    .dataframe tbody tr th:only-of-type {\n",
       "        vertical-align: middle;\n",
       "    }\n",
       "\n",
       "    .dataframe tbody tr th {\n",
       "        vertical-align: top;\n",
       "    }\n",
       "\n",
       "    .dataframe thead th {\n",
       "        text-align: right;\n",
       "    }\n",
       "</style>\n",
       "<table border=\"1\" class=\"dataframe\">\n",
       "  <thead>\n",
       "    <tr style=\"text-align: right;\">\n",
       "      <th></th>\n",
       "      <th>Name</th>\n",
       "      <th>GFA</th>\n",
       "      <th>BType</th>\n",
       "      <th>Energy</th>\n",
       "      <th>WeekDay</th>\n",
       "      <th>TAVG</th>\n",
       "      <th>TMIN</th>\n",
       "      <th>TMAX</th>\n",
       "      <th>Sem</th>\n",
       "    </tr>\n",
       "  </thead>\n",
       "  <tbody>\n",
       "    <tr>\n",
       "      <th>0</th>\n",
       "      <td>Piper Writing Center</td>\n",
       "      <td>4314.0</td>\n",
       "      <td>Academic</td>\n",
       "      <td>1.402795493602753</td>\n",
       "      <td>1</td>\n",
       "      <td>43.0</td>\n",
       "      <td>38</td>\n",
       "      <td>51</td>\n",
       "      <td>0</td>\n",
       "    </tr>\n",
       "    <tr>\n",
       "      <th>1</th>\n",
       "      <td>Piper Writing Center</td>\n",
       "      <td>4314.0</td>\n",
       "      <td>Academic</td>\n",
       "      <td>2.6063907146453857</td>\n",
       "      <td>1</td>\n",
       "      <td>43.0</td>\n",
       "      <td>38</td>\n",
       "      <td>51</td>\n",
       "      <td>0</td>\n",
       "    </tr>\n",
       "    <tr>\n",
       "      <th>2</th>\n",
       "      <td>Piper Writing Center</td>\n",
       "      <td>4314.0</td>\n",
       "      <td>Academic</td>\n",
       "      <td>0.8264167606830597</td>\n",
       "      <td>1</td>\n",
       "      <td>43.0</td>\n",
       "      <td>38</td>\n",
       "      <td>51</td>\n",
       "      <td>0</td>\n",
       "    </tr>\n",
       "    <tr>\n",
       "      <th>3</th>\n",
       "      <td>Piper Writing Center</td>\n",
       "      <td>4314.0</td>\n",
       "      <td>Academic</td>\n",
       "      <td>0.831238254904747</td>\n",
       "      <td>1</td>\n",
       "      <td>43.0</td>\n",
       "      <td>38</td>\n",
       "      <td>51</td>\n",
       "      <td>0</td>\n",
       "    </tr>\n",
       "    <tr>\n",
       "      <th>4</th>\n",
       "      <td>Piper Writing Center</td>\n",
       "      <td>4314.0</td>\n",
       "      <td>Academic</td>\n",
       "      <td>4.9978625774383545</td>\n",
       "      <td>1</td>\n",
       "      <td>43.0</td>\n",
       "      <td>38</td>\n",
       "      <td>51</td>\n",
       "      <td>0</td>\n",
       "    </tr>\n",
       "    <tr>\n",
       "      <th>...</th>\n",
       "      <td>...</td>\n",
       "      <td>...</td>\n",
       "      <td>...</td>\n",
       "      <td>...</td>\n",
       "      <td>...</td>\n",
       "      <td>...</td>\n",
       "      <td>...</td>\n",
       "      <td>...</td>\n",
       "      <td>...</td>\n",
       "    </tr>\n",
       "    <tr>\n",
       "      <th>602573</th>\n",
       "      <td>San Pablo</td>\n",
       "      <td>77484.0</td>\n",
       "      <td>Housing</td>\n",
       "      <td>51.58279991149902</td>\n",
       "      <td>1</td>\n",
       "      <td>54.0</td>\n",
       "      <td>45</td>\n",
       "      <td>59</td>\n",
       "      <td>0</td>\n",
       "    </tr>\n",
       "    <tr>\n",
       "      <th>602574</th>\n",
       "      <td>San Pablo</td>\n",
       "      <td>77484.0</td>\n",
       "      <td>Housing</td>\n",
       "      <td>52.42500019073486</td>\n",
       "      <td>1</td>\n",
       "      <td>54.0</td>\n",
       "      <td>45</td>\n",
       "      <td>59</td>\n",
       "      <td>0</td>\n",
       "    </tr>\n",
       "    <tr>\n",
       "      <th>602575</th>\n",
       "      <td>San Pablo</td>\n",
       "      <td>77484.0</td>\n",
       "      <td>Housing</td>\n",
       "      <td>50.46094989776611</td>\n",
       "      <td>1</td>\n",
       "      <td>54.0</td>\n",
       "      <td>45</td>\n",
       "      <td>59</td>\n",
       "      <td>0</td>\n",
       "    </tr>\n",
       "    <tr>\n",
       "      <th>602576</th>\n",
       "      <td>San Pablo</td>\n",
       "      <td>77484.0</td>\n",
       "      <td>Housing</td>\n",
       "      <td>51.54427433013916</td>\n",
       "      <td>1</td>\n",
       "      <td>54.0</td>\n",
       "      <td>45</td>\n",
       "      <td>59</td>\n",
       "      <td>0</td>\n",
       "    </tr>\n",
       "    <tr>\n",
       "      <th>602577</th>\n",
       "      <td>San Pablo</td>\n",
       "      <td>77484.0</td>\n",
       "      <td>Housing</td>\n",
       "      <td>49.68022441864014</td>\n",
       "      <td>1</td>\n",
       "      <td>54.0</td>\n",
       "      <td>45</td>\n",
       "      <td>59</td>\n",
       "      <td>0</td>\n",
       "    </tr>\n",
       "  </tbody>\n",
       "</table>\n",
       "<p>602578 rows × 9 columns</p>\n",
       "</div>"
      ],
      "text/plain": [
       "                        Name      GFA     BType              Energy  WeekDay  \\\n",
       "0       Piper Writing Center   4314.0  Academic   1.402795493602753        1   \n",
       "1       Piper Writing Center   4314.0  Academic  2.6063907146453857        1   \n",
       "2       Piper Writing Center   4314.0  Academic  0.8264167606830597        1   \n",
       "3       Piper Writing Center   4314.0  Academic   0.831238254904747        1   \n",
       "4       Piper Writing Center   4314.0  Academic  4.9978625774383545        1   \n",
       "...                      ...      ...       ...                 ...      ...   \n",
       "602573             San Pablo  77484.0   Housing   51.58279991149902        1   \n",
       "602574             San Pablo  77484.0   Housing   52.42500019073486        1   \n",
       "602575             San Pablo  77484.0   Housing   50.46094989776611        1   \n",
       "602576             San Pablo  77484.0   Housing   51.54427433013916        1   \n",
       "602577             San Pablo  77484.0   Housing   49.68022441864014        1   \n",
       "\n",
       "        TAVG  TMIN  TMAX  Sem  \n",
       "0       43.0    38    51    0  \n",
       "1       43.0    38    51    0  \n",
       "2       43.0    38    51    0  \n",
       "3       43.0    38    51    0  \n",
       "4       43.0    38    51    0  \n",
       "...      ...   ...   ...  ...  \n",
       "602573  54.0    45    59    0  \n",
       "602574  54.0    45    59    0  \n",
       "602575  54.0    45    59    0  \n",
       "602576  54.0    45    59    0  \n",
       "602577  54.0    45    59    0  \n",
       "\n",
       "[602578 rows x 9 columns]"
      ]
     },
     "execution_count": 74,
     "metadata": {},
     "output_type": "execute_result"
    }
   ],
   "source": [
    "with open(\"data/df.pkl\",'rb') as file:\n",
    "    df = pickle.load(file)\n",
    "\n",
    "df"
   ]
  },
  {
   "cell_type": "markdown",
   "metadata": {},
   "source": [
    "# Data Understanding and Transformation"
   ]
  },
  {
   "cell_type": "code",
   "execution_count": 75,
   "metadata": {},
   "outputs": [
    {
     "data": {
      "text/plain": [
       "Name        object\n",
       "GFA        float64\n",
       "BType       object\n",
       "Energy      object\n",
       "WeekDay      int64\n",
       "TAVG       float64\n",
       "TMIN         int64\n",
       "TMAX         int64\n",
       "Sem          int64\n",
       "dtype: object"
      ]
     },
     "execution_count": 75,
     "metadata": {},
     "output_type": "execute_result"
    }
   ],
   "source": [
    "df.dtypes"
   ]
  },
  {
   "cell_type": "markdown",
   "metadata": {},
   "source": [
    "Converting Energy datatype from string to float"
   ]
  },
  {
   "cell_type": "code",
   "execution_count": 84,
   "metadata": {},
   "outputs": [],
   "source": [
    "df['Energy'] = df['Energy'].apply(lambda x:float(x)).round(1)"
   ]
  },
  {
   "cell_type": "markdown",
   "metadata": {},
   "source": [
    "#### Checking for negative and missing values for energy"
   ]
  },
  {
   "cell_type": "code",
   "execution_count": 72,
   "metadata": {},
   "outputs": [
    {
     "data": {
      "text/plain": [
       "Energy    0\n",
       "dtype: int64"
      ]
     },
     "execution_count": 72,
     "metadata": {},
     "output_type": "execute_result"
    }
   ],
   "source": [
    "df.loc[df['Energy']<0,['Energy']].count()"
   ]
  },
  {
   "cell_type": "code",
   "execution_count": 73,
   "metadata": {},
   "outputs": [
    {
     "data": {
      "text/plain": [
       "Name    0\n",
       "dtype: int64"
      ]
     },
     "execution_count": 73,
     "metadata": {},
     "output_type": "execute_result"
    }
   ],
   "source": [
    "df.loc[df['Energy']<0,['Name']].nunique()"
   ]
  },
  {
   "cell_type": "code",
   "execution_count": 66,
   "metadata": {},
   "outputs": [
    {
     "data": {
      "text/plain": [
       "Name           0\n",
       "GFA        17520\n",
       "BType      17520\n",
       "Energy         0\n",
       "WeekDay        0\n",
       "TAVG           0\n",
       "TMIN           0\n",
       "TMAX           0\n",
       "Sem            0\n",
       "dtype: int64"
      ]
     },
     "execution_count": 66,
     "metadata": {},
     "output_type": "execute_result"
    }
   ],
   "source": [
    "df.isna().sum()"
   ]
  },
  {
   "cell_type": "markdown",
   "metadata": {},
   "source": [
    "#### Removing the negative and missing values"
   ]
  },
  {
   "cell_type": "code",
   "execution_count": 82,
   "metadata": {},
   "outputs": [],
   "source": [
    "df = df[df['Energy']>0].dropna()"
   ]
  },
  {
   "cell_type": "code",
   "execution_count": 83,
   "metadata": {},
   "outputs": [
    {
     "data": {
      "text/plain": [
       "count    571407.000000\n",
       "mean        109.241787\n",
       "std         121.975215\n",
       "min           0.000260\n",
       "25%          34.878651\n",
       "50%          66.115526\n",
       "75%         137.051003\n",
       "max         757.316742\n",
       "Name: Energy, dtype: float64"
      ]
     },
     "execution_count": 83,
     "metadata": {},
     "output_type": "execute_result"
    }
   ],
   "source": [
    "df['Energy'].describe()"
   ]
  },
  {
   "cell_type": "code",
   "execution_count": null,
   "metadata": {},
   "outputs": [],
   "source": [
    "df['Energy'].apply(lambda x:x)"
   ]
  },
  {
   "cell_type": "markdown",
   "metadata": {},
   "source": [
    "# Prediction Modeling"
   ]
  },
  {
   "cell_type": "markdown",
   "metadata": {},
   "source": [
    "## Simple Linear Regression"
   ]
  },
  {
   "cell_type": "code",
   "execution_count": 88,
   "metadata": {},
   "outputs": [],
   "source": [
    "df.Btype = pd.factorize(df.BType)[0]"
   ]
  },
  {
   "cell_type": "code",
   "execution_count": 9,
   "metadata": {},
   "outputs": [],
   "source": [
    "featureData = df.drop(['Energy','TMIN','TMAX','Name'],axis=1).values\n",
    "y = df['Energy'].values\n",
    "\n",
    "#scaling\n",
    "\n",
    "scaler = MinMaxScaler(feature_range = (0,1))\n",
    "X = pd.DataFrame(scaler.fit_transform(featureData))"
   ]
  },
  {
   "cell_type": "code",
   "execution_count": null,
   "metadata": {},
   "outputs": [],
   "source": [
    "#ran the model on EC2 instance for performance\n",
    "\n",
    "LinReg = LinearRegression(normalize = True)\n",
    "LinReg.fit(featureData,targetData)\n",
    "\n",
    "print(LinReg.score(featureData,targetData))"
   ]
  },
  {
   "cell_type": "code",
   "execution_count": 8,
   "metadata": {},
   "outputs": [
    {
     "data": {
      "text/plain": [
       "0.1330667617808884"
      ]
     },
     "execution_count": 8,
     "metadata": {},
     "output_type": "execute_result"
    }
   ],
   "source": [
    "file = open(\"linear.pkl\",'rb')\n",
    "score = pickle.load(file)\n",
    "\n",
    "score"
   ]
  },
  {
   "cell_type": "code",
   "execution_count": null,
   "metadata": {},
   "outputs": [],
   "source": []
  },
  {
   "cell_type": "markdown",
   "metadata": {},
   "source": [
    "## Neural Networks"
   ]
  },
  {
   "cell_type": "code",
   "execution_count": null,
   "metadata": {},
   "outputs": [],
   "source": []
  },
  {
   "cell_type": "code",
   "execution_count": null,
   "metadata": {},
   "outputs": [],
   "source": [
    "#One hot encoding Categorical\n",
    "\n",
    "BTypedf = pd.get_dummies(df['BType'],prefix='BType')\n",
    "df = pd.concat([df,BTypedf],axis =1)"
   ]
  },
  {
   "cell_type": "code",
   "execution_count": null,
   "metadata": {},
   "outputs": [],
   "source": [
    "featureData = df.drop(['Energy','Name'],axis=1).values\n",
    "y = df['Energy'].values\n",
    "\n",
    "#scaling\n",
    "\n",
    "scaler = MinMaxScaler(feature_range = (0,1))\n",
    "X = pd.DataFrame(scaler.fit_transform(featureData))"
   ]
  },
  {
   "cell_type": "markdown",
   "metadata": {},
   "source": [
    "### Initializing and paramter tuning"
   ]
  },
  {
   "cell_type": "code",
   "execution_count": null,
   "metadata": {},
   "outputs": [],
   "source": [
    "model3 = Sequential()\n",
    "model3.add(Dense(50,input_dim=59,activation='relu', name = 'layer_1'))\n",
    "model3.add(Dense(20,activation='relu',name = 'layer_2'))\n",
    "model3.add(Dense(3,activation='softmax',name = 'output_layer'))\n",
    "\n",
    "model3.compile(loss='categorical_crossentropy', optimizer='SGD', metrics=['accuracy'])"
   ]
  },
  {
   "cell_type": "code",
   "execution_count": null,
   "metadata": {},
   "outputs": [],
   "source": [
    "model3.fit(X,y,epochs=100,shuffle=True,verbose=2)\n",
    "\n",
    "error_rate,accuracy = model3.evaluate(X,y,verbose=0)\n",
    "\n",
    "print(error_rate, accuracy)"
   ]
  },
  {
   "cell_type": "markdown",
   "metadata": {},
   "source": [
    "### Evaluating with K fold Cross validation"
   ]
  },
  {
   "cell_type": "code",
   "execution_count": null,
   "metadata": {},
   "outputs": [],
   "source": [
    "#Building the model and evaluating using K fold cross validation\n",
    "\n",
    "RunName = 'model4'\n",
    "def createmodel():\n",
    "    model = Sequential()\n",
    "    model.add(Dense(10,input_dim=59,activation='relu'))\n",
    "    modle.add(Dense(5,activation='relu'))\n",
    "    model.add(Dense(3,activation='softmax'))\n",
    "    model.compile(loss='categorical_crossentropy', optimizer='adam', metrics=['accuracy'])\n",
    "    return model\n",
    "\n",
    "seed = 7\n",
    "np.random.seed(seed)\n",
    "\n",
    "model = KerasClassifier(build_fn = createmodel,epochs = 50, batch_size = 10, verbose = 0)\n",
    "kfold = KFold(n_splits=10, shuffle=True, random_state=seed)\n",
    "results = cross_val_score(model, X, y, cv=kfold)\n",
    "print(results.mean())"
   ]
  }
 ],
 "metadata": {
  "kernelspec": {
   "display_name": "Python 3",
   "language": "python",
   "name": "python3"
  },
  "language_info": {
   "codemirror_mode": {
    "name": "ipython",
    "version": 3
   },
   "file_extension": ".py",
   "mimetype": "text/x-python",
   "name": "python",
   "nbconvert_exporter": "python",
   "pygments_lexer": "ipython3",
   "version": "3.7.6"
  }
 },
 "nbformat": 4,
 "nbformat_minor": 4
}
